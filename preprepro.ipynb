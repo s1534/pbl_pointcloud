{
 "cells": [
  {
   "cell_type": "code",
   "execution_count": 11,
   "metadata": {},
   "outputs": [],
   "source": [
    "import pandas as pd"
   ]
  },
  {
   "cell_type": "code",
   "execution_count": 12,
   "metadata": {},
   "outputs": [],
   "source": [
    "df = pd.read_csv('eating1.csv')"
   ]
  },
  {
   "cell_type": "code",
   "execution_count": 13,
   "metadata": {},
   "outputs": [],
   "source": [
    "a = df['action_label'].unique().tolist()"
   ]
  },
  {
   "cell_type": "code",
   "execution_count": 14,
   "metadata": {},
   "outputs": [
    {
     "data": {
      "text/plain": [
       "['料理-副菜を掴む',\n",
       " '料理-副菜を食べる',\n",
       " '料理-主食を掴む',\n",
       " '料理-主食を食べる',\n",
       " '食器類を持つ',\n",
       " '食器類を置く',\n",
       " '料理-主菜を掴む',\n",
       " '料理-主菜を食べる']"
      ]
     },
     "execution_count": 14,
     "metadata": {},
     "output_type": "execute_result"
    }
   ],
   "source": [
    "a"
   ]
  },
  {
   "cell_type": "code",
   "execution_count": 15,
   "metadata": {},
   "outputs": [
    {
     "data": {
      "text/plain": [
       "[0, 1, 2, 3, 4, 5, 6, 7]"
      ]
     },
     "execution_count": 15,
     "metadata": {},
     "output_type": "execute_result"
    }
   ],
   "source": [
    "b = [i for i in range(len(a))]\n",
    "b"
   ]
  },
  {
   "cell_type": "code",
   "execution_count": 16,
   "metadata": {},
   "outputs": [
    {
     "data": {
      "text/plain": [
       "{0: '料理-副菜を掴む',\n",
       " 1: '料理-副菜を食べる',\n",
       " 2: '料理-主食を掴む',\n",
       " 3: '料理-主食を食べる',\n",
       " 4: '食器類を持つ',\n",
       " 5: '食器類を置く',\n",
       " 6: '料理-主菜を掴む',\n",
       " 7: '料理-主菜を食べる'}"
      ]
     },
     "execution_count": 16,
     "metadata": {},
     "output_type": "execute_result"
    }
   ],
   "source": [
    "labeling = dict(zip(b,a))\n",
    "labeling"
   ]
  },
  {
   "cell_type": "code",
   "execution_count": 18,
   "metadata": {},
   "outputs": [],
   "source": [
    "label_dict = {'料理-主食を掴む':'cuisine-main_dish_hold',\n",
    "            '料理-主食を食べる':'cuisine-main_dish_eat',\n",
    "            '料理-副菜を掴む':'cuisine-side_dish_hold',\n",
    "            '料理-副菜を食べる':'cuisine-side_dish_eat',\n",
    "            '料理-主菜を掴む':'cuisine-staple_dish_hold',\n",
    "            '料理-主菜を食べる':'cuisine-staple_dish_eat',\n",
    "            '食器類を持つ':'tableware_hold',\n",
    "            '食器類を置く':'tableware_put'}"
   ]
  },
  {
   "cell_type": "code",
   "execution_count": 20,
   "metadata": {},
   "outputs": [],
   "source": [
    "df['action_label'] = df['action_label'].map(label_dict)"
   ]
  },
  {
   "cell_type": "code",
   "execution_count": 21,
   "metadata": {},
   "outputs": [
    {
     "data": {
      "text/html": [
       "<div>\n",
       "<style scoped>\n",
       "    .dataframe tbody tr th:only-of-type {\n",
       "        vertical-align: middle;\n",
       "    }\n",
       "\n",
       "    .dataframe tbody tr th {\n",
       "        vertical-align: top;\n",
       "    }\n",
       "\n",
       "    .dataframe thead th {\n",
       "        text-align: right;\n",
       "    }\n",
       "</style>\n",
       "<table border=\"1\" class=\"dataframe\">\n",
       "  <thead>\n",
       "    <tr style=\"text-align: right;\">\n",
       "      <th></th>\n",
       "      <th>Unnamed: 0</th>\n",
       "      <th>first_frame</th>\n",
       "      <th>last_frame</th>\n",
       "      <th>action_label</th>\n",
       "    </tr>\n",
       "  </thead>\n",
       "  <tbody>\n",
       "    <tr>\n",
       "      <th>0</th>\n",
       "      <td>1</td>\n",
       "      <td>1176</td>\n",
       "      <td>1194</td>\n",
       "      <td>cuisine-side_dish_hold</td>\n",
       "    </tr>\n",
       "    <tr>\n",
       "      <th>1</th>\n",
       "      <td>2</td>\n",
       "      <td>1209</td>\n",
       "      <td>1227</td>\n",
       "      <td>cuisine-side_dish_eat</td>\n",
       "    </tr>\n",
       "    <tr>\n",
       "      <th>2</th>\n",
       "      <td>3</td>\n",
       "      <td>1486</td>\n",
       "      <td>1516</td>\n",
       "      <td>cuisine-side_dish_hold</td>\n",
       "    </tr>\n",
       "    <tr>\n",
       "      <th>3</th>\n",
       "      <td>4</td>\n",
       "      <td>1529</td>\n",
       "      <td>1557</td>\n",
       "      <td>cuisine-side_dish_eat</td>\n",
       "    </tr>\n",
       "    <tr>\n",
       "      <th>4</th>\n",
       "      <td>5</td>\n",
       "      <td>1619</td>\n",
       "      <td>1649</td>\n",
       "      <td>cuisine-side_dish_hold</td>\n",
       "    </tr>\n",
       "    <tr>\n",
       "      <th>...</th>\n",
       "      <td>...</td>\n",
       "      <td>...</td>\n",
       "      <td>...</td>\n",
       "      <td>...</td>\n",
       "    </tr>\n",
       "    <tr>\n",
       "      <th>64</th>\n",
       "      <td>65</td>\n",
       "      <td>9705</td>\n",
       "      <td>9711</td>\n",
       "      <td>cuisine-main_dish_hold</td>\n",
       "    </tr>\n",
       "    <tr>\n",
       "      <th>65</th>\n",
       "      <td>66</td>\n",
       "      <td>9712</td>\n",
       "      <td>9758</td>\n",
       "      <td>cuisine-main_dish_eat</td>\n",
       "    </tr>\n",
       "    <tr>\n",
       "      <th>66</th>\n",
       "      <td>67</td>\n",
       "      <td>9953</td>\n",
       "      <td>9969</td>\n",
       "      <td>cuisine-staple_dish_hold</td>\n",
       "    </tr>\n",
       "    <tr>\n",
       "      <th>67</th>\n",
       "      <td>68</td>\n",
       "      <td>10389</td>\n",
       "      <td>10399</td>\n",
       "      <td>cuisine-main_dish_eat</td>\n",
       "    </tr>\n",
       "    <tr>\n",
       "      <th>68</th>\n",
       "      <td>69</td>\n",
       "      <td>10669</td>\n",
       "      <td>10699</td>\n",
       "      <td>cuisine-main_dish_eat</td>\n",
       "    </tr>\n",
       "  </tbody>\n",
       "</table>\n",
       "<p>69 rows × 4 columns</p>\n",
       "</div>"
      ],
      "text/plain": [
       "    Unnamed: 0  first_frame  last_frame              action_label\n",
       "0            1         1176        1194    cuisine-side_dish_hold\n",
       "1            2         1209        1227     cuisine-side_dish_eat\n",
       "2            3         1486        1516    cuisine-side_dish_hold\n",
       "3            4         1529        1557     cuisine-side_dish_eat\n",
       "4            5         1619        1649    cuisine-side_dish_hold\n",
       "..         ...          ...         ...                       ...\n",
       "64          65         9705        9711    cuisine-main_dish_hold\n",
       "65          66         9712        9758     cuisine-main_dish_eat\n",
       "66          67         9953        9969  cuisine-staple_dish_hold\n",
       "67          68        10389       10399     cuisine-main_dish_eat\n",
       "68          69        10669       10699     cuisine-main_dish_eat\n",
       "\n",
       "[69 rows x 4 columns]"
      ]
     },
     "execution_count": 21,
     "metadata": {},
     "output_type": "execute_result"
    }
   ],
   "source": [
    "df"
   ]
  }
 ],
 "metadata": {
  "kernelspec": {
   "display_name": "Python 3.8.13 ('pbl_pointcloud')",
   "language": "python",
   "name": "python3"
  },
  "language_info": {
   "codemirror_mode": {
    "name": "ipython",
    "version": 3
   },
   "file_extension": ".py",
   "mimetype": "text/x-python",
   "name": "python",
   "nbconvert_exporter": "python",
   "pygments_lexer": "ipython3",
   "version": "3.8.13"
  },
  "orig_nbformat": 4,
  "vscode": {
   "interpreter": {
    "hash": "68334c5633dd6e79cc8650f860b2607fdbf3b5952a872e590d374d803ce42139"
   }
  }
 },
 "nbformat": 4,
 "nbformat_minor": 2
}
